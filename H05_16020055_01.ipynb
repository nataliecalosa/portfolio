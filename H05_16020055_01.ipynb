{
 "metadata": {
  "language_info": {
   "codemirror_mode": {
    "name": "ipython",
    "version": 3
   },
   "file_extension": ".py",
   "mimetype": "text/x-python",
   "name": "python",
   "nbconvert_exporter": "python",
   "pygments_lexer": "ipython3",
   "version": "3.8.5-final"
  },
  "orig_nbformat": 2,
  "kernelspec": {
   "name": "python3",
   "display_name": "Python 3.8.5 32-bit",
   "metadata": {
    "interpreter": {
     "hash": "3e8598611744586220d089d594988233fde3d5e2702a3e53410911362c5ef92d"
    }
   }
  }
 },
 "nbformat": 4,
 "nbformat_minor": 2,
 "cells": [
  {
   "cell_type": "code",
   "execution_count": null,
   "metadata": {},
   "outputs": [],
   "source": [
    "# NIM / NAMA : 16020055 / Natalie Calosa\n",
    "# Tanggal    : 12 Desember 2020\n",
    "# Deskripsi  : Program yang menampilkan data."
   ]
  },
  {
   "cell_type": "code",
   "execution_count": null,
   "metadata": {},
   "outputs": [],
   "source": [
    "#Kamus\n",
    "#df = data frame\n",
    "#c = data frame yang berisi data dengan fakultas FMIPA\n",
    "#d = data frame yang berisi data dengan fakultas FTTM\n",
    "#e = data frame yang berisi data dengan fakultas FSRD\n",
    "#f = data frame yang berisi data dengan fakultas SAPPK\n",
    "#g = data frame yang berisi data dengan fakultas SF\n",
    "#h= data frame yang berisi data dengan fakultas STEI\n",
    "#i =data frame yang berisi data dengan fakultas  FITB\n",
    "#j = data frame yang berisi data dengan fakultas FTMD\n",
    "#k = data frame yang berisi data dengan fakultas SBM\n",
    "#l = data frame yang berisi data dengan fakultas FTSL\n",
    "#m = data frame yang berisi data dengan fakultas SITHR\n",
    "#n =data frame yang berisi data dengan fakultas SITHS\n",
    "#o = data frame yang berisi data dengan fakultas FTI\n",
    "# i = integer\n",
    "# s= float, nilai korelasi antara data nilai_fis dan nilai_kal"
   ]
  },
  {
   "cell_type": "code",
   "execution_count": null,
   "metadata": {},
   "outputs": [],
   "source": [
    "#Algoritma"
   ]
  },
  {
   "cell_type": "code",
   "execution_count": 1,
   "metadata": {},
   "outputs": [
    {
     "output_type": "stream",
     "name": "stdout",
     "text": [
      "Banyak data adalah : 3562\n"
     ]
    }
   ],
   "source": [
    "#1. Banyaknya data\n",
    "import pandas as pd #import modules\n",
    "df = pd.read_csv(\"nilai_uas.csv\") #membaca data\n",
    "print(\"Banyak data adalah :\", len(df)) #menunjukkan banyak data yaitu len dari df "
   ]
  },
  {
   "cell_type": "code",
   "execution_count": 2,
   "metadata": {},
   "outputs": [
    {
     "output_type": "stream",
     "name": "stdout",
     "text": [
      "Sepuluh data pertama:\n                  nama fakultas  nilai_kal  nilai_fis  nilai_kim\n0         Raihan Daris       SF      60.27      65.59      51.70\n1           Galuh Wina     STEI      52.99      55.25      66.31\n2         Johannes Sun    FMIPA      51.20      51.30      84.70\n3  Abdurrahman WIlliam     FTSL      31.17      36.88      50.25\n4         Rayhan Faris     STEI      55.55      57.61      67.46\n5  Margareth Widyatama     FTTM      42.78      50.23      71.17\n6      Christofer Jaza     FTSL      31.64      38.03      34.99\n7         Wafika Nadia       SF      60.96      57.54      76.03\n8  Elizabeth Parikesit     STEI      54.35      55.30      59.15\n9         Halida Aqila    SITHR      63.71      67.23      63.76\n"
     ]
    }
   ],
   "source": [
    "# 2. 10 Data Pertama \n",
    "import pandas as pd #import modules\n",
    "df = pd.read_csv(\"nilai_uas.csv\") #membaca data\n",
    "print(\"Sepuluh data pertama:\") #print keterangan\n",
    "print(df.loc[:9]) #megambil 10 data pertama"
   ]
  },
  {
   "cell_type": "code",
   "execution_count": 24,
   "metadata": {},
   "outputs": [
    {
     "output_type": "stream",
     "name": "stdout",
     "text": [
      "data ke- 50\nnama         Ulul Mochammad\nfakultas               FTTM\nnilai_kal             38.75\nnilai_fis             44.24\nnilai_kim             40.11\nName: 50, dtype: object\ndata ke- 51\nnama         George Vrince\nfakultas              FITB\nnilai_kal            44.02\nnilai_fis            45.15\nnilai_kim            41.76\nName: 51, dtype: object\ndata ke- 52\nnama         Fayza Eunike\nfakultas             STEI\nnilai_kal           55.28\nnilai_fis           59.47\nnilai_kim           49.29\nName: 52, dtype: object\ndata ke- 53\nnama         Kevin Faustin\nfakultas             SAPPK\nnilai_kal            47.72\nnilai_fis            49.65\nnilai_kim            52.76\nName: 53, dtype: object\ndata ke- 54\nnama         salah Siagian\nfakultas             SAPPK\nnilai_kal            47.14\nnilai_fis            51.26\nnilai_kim            46.77\nName: 54, dtype: object\ndata ke- 55\nnama         Nabilah Satya\nfakultas                SF\nnilai_kal            61.26\nnilai_fis            63.96\nnilai_kim            57.19\nName: 55, dtype: object\ndata ke- 56\nnama         Tharisa Ghiffari\nfakultas                 FSRD\nnilai_kal               74.14\nnilai_fis               78.86\nnilai_kim               54.59\nName: 56, dtype: object\ndata ke- 57\nnama         Setyawan Ahmad\nfakultas               FSRD\nnilai_kal             75.18\nnilai_fis             78.33\nnilai_kim             51.35\nName: 57, dtype: object\ndata ke- 58\nnama         Kelvin Salsabiela\nfakultas                  FTTM\nnilai_kal                39.69\nnilai_fis                40.92\nnilai_kim                51.15\nName: 58, dtype: object\ndata ke- 59\nnama         Sitorus Aidil\nfakultas              FTMD\nnilai_kal            58.49\nnilai_fis            55.54\nnilai_kim             55.2\nName: 59, dtype: object\ndata ke- 60\nnama         Hendrianto Muhammad\nfakultas                    FTTM\nnilai_kal                  41.84\nnilai_fis                  45.93\nnilai_kim                  68.35\nName: 60, dtype: object\n"
     ]
    }
   ],
   "source": [
    "#Data ke 50 - 60\n",
    "import pandas as pd #import modules\n",
    "df = pd.read_csv(\"nilai_uas.csv\") #membaca data\n",
    "for i in range (50,61): #mendefinisikan i\n",
    "    print (\"data ke-\",i) #print keterangan\n",
    "    print (df.loc[i]) #mengambil data ke-i"
   ]
  },
  {
   "cell_type": "code",
   "execution_count": 3,
   "metadata": {},
   "outputs": [
    {
     "output_type": "stream",
     "name": "stdout",
     "text": [
      "Banyak mahasiswa fakultas FMIPA : 396\nBanyak mahasiswa fakultas STEI : 499\nBanyak mahasiswa fakultas FTI : 0\nBanyak mahasiswa fakultas SITHS : 102\nBanyak mahasiswa fakultas FTSL : 424\nBanyak mahasiswa fakultas FITB : 283\nBanyak mahasiswa fakultas SF : 154\nBanyak mahasiswa fakultas SAPPK : 198\nBanyak mahasiswa fakultas FTTM : 454\nBanyak mahasiswa fakultas FTMD : 352\nBanyak mahasiswa fakultas SBM : 261\nBanyak mahasiswa fakultas FSRD : 260\nBanyak mahasiswa fakultas SITHR : 179\n"
     ]
    }
   ],
   "source": [
    "#4. Banyaknya mahasiswa tiap fakultas\n",
    "import pandas as pd #import modules\n",
    "df = pd.read_csv(\"nilai_uas.csv\") #membaca data\n",
    "c = (df.loc[df[\"fakultas\"] == \"FMIPA\"])  #mengambil data fakultas FMIPA\n",
    "d = (df.loc[df[\"fakultas\"] == \"FTTM\"]) #mengambil data fakultas FTTM\n",
    "e = (df.loc[df[\"fakultas\"] == \"FSRD\"])#mengambil data fakultas FSRD\n",
    "f = (df.loc[df[\"fakultas\"] == \"SAPPK\"])#mengambil data fakultas SAPPK\n",
    "g = (df.loc[df[\"fakultas\"] == \"SF\"])#mengambil data fakultas SF\n",
    "h = (df.loc[df[\"fakultas\"] == \"STEI\"])#mengambil data fakultas STEI\n",
    "i = (df.loc[df[\"fakultas\"] == \"FITB\"])#mengambil data fakultas FITB\n",
    "j = (df.loc[df[\"fakultas\"] == \"FTMD\"])#mengambil data fakultas FTMD\n",
    "k = (df.loc[df[\"fakultas\"] == \"SBM\"])#mengambil data fakultas SBM\n",
    "l = (df.loc[df[\"fakultas\"] == \"FTSL\"])#mengambil data fakultas FTSL\n",
    "m = (df.loc[df[\"fakultas\"] == \"SITHR\"])#mengambil data fakultas SITHR\n",
    "n =  (df.loc[df[\"fakultas\"] == \"SITHS\"])#mengambil data fakultas SITHS\n",
    "o = (df.loc[df[\"fakultas\"] == \"FTI\"])#mengambil data fakultas FT\n",
    "print (\"Banyak mahasiswa fakultas FMIPA :\",len(c)) #print data jumlah mahasiswa fakultas FMIPA  (yang merupukan panjang dari dataframe c)\n",
    "print (\"Banyak mahasiswa fakultas STEI :\",len(h)) #print data jumlah mahasiswa  fakultas STEI (yang merupukan panjang dari dataframe h)\n",
    "print (\"Banyak mahasiswa fakultas FTI :\",len(o)) #print data jumlah mahasiswa fakultas FTI (yang merupukan panjang dari dataframe o)\n",
    "print (\"Banyak mahasiswa fakultas SITHS :\",len(n))#print data jumlah mahasiswa fakultas SITHS (yang merupukan panjang dari dataframe n)\n",
    "print (\"Banyak mahasiswa fakultas FTSL :\",len(l))#print data jumlah mahasiswa fakultas FTSL (yang merupukan panjang dari dataframe l)\n",
    "print (\"Banyak mahasiswa fakultas FITB :\",len(i))#print data jumlah mahasiswa fakultas FITB (yang merupukan panjang dari dataframe i)\n",
    "print (\"Banyak mahasiswa fakultas SF :\",len (g))#print data jumlah mahasiswa fakultas SF (yang merupukan panjang dari dataframe g)\n",
    "print (\"Banyak mahasiswa fakultas SAPPK :\",len(f))#print data jumlah mahasiswa fakultas SAPPK (yang merupukan panjang dari dataframe f)\n",
    "print (\"Banyak mahasiswa fakultas FTTM :\",len(d))#print data jumlah mahasiswa fakultas FTTM (yang merupukan panjang dari dataframe d)\n",
    "print (\"Banyak mahasiswa fakultas FTMD :\",len(j))#print data jumlah mahasiswa fakultas FTMD (yang merupukan panjang dari dataframe j)\n",
    "print (\"Banyak mahasiswa fakultas SBM :\",len(k))#print data jumlah mahasiswa fakultas SBM (yang merupukan panjang dari dataframe k)\n",
    "print (\"Banyak mahasiswa fakultas FSRD :\",len(e))#print data jumlah mahasiswa fakultas FSRD (yang merupukan panjang dari dataframe e)\n",
    "print (\"Banyak mahasiswa fakultas SITHR :\",len(m))#print data jumlah mahasiswa fakultas SITHR (yang merupukan panjang dari dataframe m)"
   ]
  },
  {
   "cell_type": "code",
   "execution_count": 4,
   "metadata": {},
   "outputs": [
    {
     "output_type": "stream",
     "name": "stdout",
     "text": [
      "Korelasi antara nilai kalkulus dan nilai fisika 0.9605289823695184 dan keduanya berbanding lurus\n"
     ]
    }
   ],
   "source": [
    "#Nilai korelasi antara nilai kalkulus dan fisika\n",
    "import pandas as pd #import modules\n",
    "df = pd.read_csv(\"nilai_uas.csv\") #membaca data\n",
    "s = df[\"nilai_kal\"].corr(df[\"nilai_fis\"]) #mencari korelasi antara data nila_kal dan nilai_fis\n",
    "if s >= 0 and s < 0.5: #jika nilai korelasi mendekati 0\n",
    "    print (\"Korelasi antara nilai kalkulus dan nilai fisika\", s, \"dan keduanya tidak berkorelasi\") #maka kedua data tersebut tidak bekorelasi\n",
    "elif s <= 1 and s >= 0.5:#jika nilai korelasi mendekati 1\n",
    "    print (\"Korelasi antara nilai kalkulus dan nilai fisika\", s, \"dan keduanya berbanding lurus\")#maka kedua data tersebut berbanding lurus\n",
    "else:#jika nilai korelasi mendekati -1\n",
    "    print (\"Korelasi antara nilai kalkulus dan nilai fisika\", s, \"dan keduanya berbanding terbalik\")#maka kedua data tersebut berbanding terbalik"
   ]
  },
  {
   "cell_type": "code",
   "execution_count": null,
   "metadata": {},
   "outputs": [],
   "source": [
    "#Keduanyya berkorelasi berbanding lurus karena memiliki nilai korelasi mendektai 1"
   ]
  }
 ]
}