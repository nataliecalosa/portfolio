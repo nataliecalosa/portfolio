{
 "metadata": {
  "language_info": {
   "codemirror_mode": {
    "name": "ipython",
    "version": 3
   },
   "file_extension": ".py",
   "mimetype": "text/x-python",
   "name": "python",
   "nbconvert_exporter": "python",
   "pygments_lexer": "ipython3",
   "version": "3.8.5-final"
  },
  "orig_nbformat": 2,
  "kernelspec": {
   "name": "python3",
   "display_name": "Python 3.8.5 32-bit",
   "metadata": {
    "interpreter": {
     "hash": "3e8598611744586220d089d594988233fde3d5e2702a3e53410911362c5ef92d"
    }
   }
  }
 },
 "nbformat": 4,
 "nbformat_minor": 2,
 "cells": [
  {
   "cell_type": "code",
   "execution_count": null,
   "metadata": {},
   "outputs": [],
   "source": [
    "# NIM / NAMA : 16020055 / Natalie Calosa\n",
    "# Tanggal    : 12 Desember 2020\n",
    "# Deskripsi  : Program yang menampilkan data."
   ]
  },
  {
   "cell_type": "code",
   "execution_count": null,
   "metadata": {},
   "outputs": [],
   "source": [
    "#Kamus\n",
    "#df = dataframe\n",
    "# maximum = int,berisi nilai maksimum tiap kolom\n",
    "# b = int, banyak data - 10\n",
    "# a = data frame untuk mengurutkan data berdasarkan nilai kimia\n",
    "# d = data berdasar nilai kalukus di bawah 50"
   ]
  },
  {
   "cell_type": "code",
   "execution_count": 5,
   "metadata": {},
   "outputs": [
    {
     "output_type": "stream",
     "name": "stdout",
     "text": [
      "Nilai kalkulus, fisika dan kimia milik Tuan Mor adalah:\n         nama fakultas  nilai_kal  nilai_fis  nilai_kim\n391  Tuan Mor     STEI      94.76       67.5      24.82\n"
     ]
    }
   ],
   "source": [
    "#Algoritma\n",
    "#1. Nilai kalkulus,fisika, dan kimia milik Tuan Mor\n",
    "import pandas as pd #import modules\n",
    "df = pd.read_csv(\"nilai_uas.csv\") #membaca data\n",
    "print (\"Nilai kalkulus, fisika dan kimia milik Tuan Mor adalah:\") #print kalimat keterangan\n",
    "print ((df.loc[df[\"nama\"] == \"Tuan Mor\"])) #mengambil data dengan nama Tuan Mor"
   ]
  },
  {
   "cell_type": "code",
   "execution_count": 6,
   "metadata": {},
   "outputs": [
    {
     "output_type": "stream",
     "name": "stdout",
     "text": [
      "Mahasiswa dengan nilai fisika tertinggi :\n             nama fakultas  nilai_kal  nilai_fis  nilai_kim\n250  Cahyani Mora     FSRD      100.0      100.0      79.55\n"
     ]
    }
   ],
   "source": [
    "#2. Mahasiswa dengan nilai fisika tertinggi\n",
    "import pandas as pd #import modules\n",
    "df = pd.read_csv(\"nilai_uas.csv\") #membaca data\n",
    "maximum = df.max() #mendefinisikan nilai maksimum tiap kolom\n",
    "print (\"Mahasiswa dengan nilai fisika tertinggi :\") #print keterangan\n",
    "print((df.loc[df[\"nilai_fis\"]== (maximum[\"nilai_fis\"])]))#mengambil data dengan besar nilai_fis maksimum"
   ]
  },
  {
   "cell_type": "code",
   "execution_count": 4,
   "metadata": {},
   "outputs": [
    {
     "output_type": "stream",
     "name": "stdout",
     "text": [
      "                  nama fakultas  nilai_kal  nilai_fis  nilai_kim\n2487       Ediva zilva    SITHR      65.04      69.31      84.87\n3017     Jevon Tangguh    FMIPA      50.42      48.15      84.92\n283   WIJAYANTI Amadio    SITHS      61.96      57.73      85.07\n780       Rizam Rayhan     FSRD      72.15      71.38      85.07\n661          Rasyid FH     FSRD      77.78      77.89      85.26\n1884       Sukma Ulhaq     FITB      43.97      44.91      85.26\n3469        Dhiya Wafa      SBM      68.89      76.51      85.73\n640         Grace Yoga     FTTM      42.24      48.16      86.26\n18      Maria Manurung     FTMD      56.86      58.83      86.26\n3074  Muhammadi Jumhur     FTSL      35.56      39.49      88.38\n"
     ]
    }
   ],
   "source": [
    "#3. 10 Mahasiswa dengan nilai kimia tertinggi\n",
    "import pandas as pd #import modules\n",
    "df = pd.read_csv(\"nilai_uas.csv\") #membaca file\n",
    "a = df.sort_values([\"nilai_kim\"]) #mengurutkan data berdasarkan nilai kim\n",
    "b = len(df)-10 #mendeklarasikan bahwa b adalah panjang data - 10 (data ke-10 dari belakang)\n",
    "print (a[b:(len(df))]) #mengeprint a (hanya mulai dari bagian b hingga len(df) atau data terakhir)"
   ]
  },
  {
   "cell_type": "code",
   "execution_count": 7,
   "metadata": {},
   "outputs": [
    {
     "output_type": "stream",
     "name": "stdout",
     "text": [
      "Banyak mahasiswa dengan nilai kalkulus di bawah 50 adalah 1549\n"
     ]
    }
   ],
   "source": [
    "#Banyaknya mahsiswa dengan nilai kalkulus dibawah 50\n",
    "import pandas as pd #import pandas\n",
    "df = pd.read_csv(\"nilai_uas.csv\") #membaca file\n",
    "d = (df.loc[df[\"nilai_kal\"] < 50 ]) # mengambil data berdasar nilai kalukus di bawah 50\n",
    "print(\"Banyak mahasiswa dengan nilai kalkulus di bawah 50 adalah\",len(d)) #mengeprint banyaknya data dengan nilai kalkulus di bawah 50 adalah len(d) (jumlah (panjang) data dengan nilai kalkulus dibawah 50)"
   ]
  },
  {
   "cell_type": "code",
   "execution_count": 8,
   "metadata": {},
   "outputs": [
    {
     "output_type": "stream",
     "name": "stdout",
     "text": [
      "Banyak mahasiswa fakultas FMIPA : 396\n"
     ]
    }
   ],
   "source": [
    "#Banyaknya mahasiswa FMIPA\n",
    "import pandas as pd #import modules\n",
    "df = pd.read_csv(\"nilai_uas.csv\") #membaca data\n",
    "c = (df.loc[df[\"fakultas\"] == \"FMIPA\"]) #mengambil data berdasar fakultas FMIPA\n",
    "print (\"Banyak mahasiswa fakultas FMIPA :\",len(c))#mengeprint banyaknya data berdasar fakultas FMIPA yaitu len(a) (jumlah (panjang) data dengan kolom fakultas berisi \"FMIPA\")"
   ]
  },
  {
   "cell_type": "code",
   "execution_count": null,
   "metadata": {},
   "outputs": [],
   "source": []
  }
 ]
}