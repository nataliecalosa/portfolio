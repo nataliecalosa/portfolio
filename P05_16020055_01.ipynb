{
 "metadata": {
  "language_info": {
   "codemirror_mode": {
    "name": "ipython",
    "version": 3
   },
   "file_extension": ".py",
   "mimetype": "text/x-python",
   "name": "python",
   "nbconvert_exporter": "python",
   "pygments_lexer": "ipython3",
   "version": "3.8.5-final"
  },
  "orig_nbformat": 2,
  "kernelspec": {
   "name": "python3",
   "display_name": "Python 3.8.5 32-bit",
   "metadata": {
    "interpreter": {
     "hash": "3e8598611744586220d089d594988233fde3d5e2702a3e53410911362c5ef92d"
    }
   }
  }
 },
 "nbformat": 4,
 "nbformat_minor": 2,
 "cells": [
  {
   "cell_type": "code",
   "execution_count": null,
   "metadata": {},
   "outputs": [],
   "source": [
    "#NIM/Nama  : 16020055/Natalie Calosa\n",
    "#Tanggal   : 15 Desember 2020\n",
    "#Deskripsi : Menampilkan informasi data sesuai perintah."
   ]
  },
  {
   "cell_type": "code",
   "execution_count": null,
   "metadata": {},
   "outputs": [],
   "source": [
    "#Kamus\n",
    "#df = dataframe"
   ]
  },
  {
   "cell_type": "code",
   "execution_count": 2,
   "metadata": {},
   "outputs": [],
   "source": [
    "import pandas as pd\n",
    "df= pd.read_csv (\"covid.csv\")"
   ]
  },
  {
   "cell_type": "code",
   "execution_count": 13,
   "metadata": {},
   "outputs": [
    {
     "output_type": "execute_result",
     "data": {
      "text/plain": [
       "27138"
      ]
     },
     "metadata": {},
     "execution_count": 13
    }
   ],
   "source": [
    "len(df) #menggunakan fungsi len untuk mencari panjang data"
   ]
  },
  {
   "cell_type": "code",
   "execution_count": 4,
   "metadata": {},
   "outputs": [
    {
     "output_type": "execute_result",
     "data": {
      "text/plain": [
       "             Date      Country/Region  Confirmed  Deaths  Recovered  Active  \\\n",
       "27133  2020-07-27  West Bank and Gaza      10621      78       3752    6791   \n",
       "27134  2020-07-27      Western Sahara         10       1          8       1   \n",
       "27135  2020-07-27               Yemen       1691     483        833     375   \n",
       "27136  2020-07-27              Zambia       4552     140       2815    1597   \n",
       "27137  2020-07-27            Zimbabwe       2704      36        542    2126   \n",
       "\n",
       "       New cases  New deaths  New recovered             WHO Region  \n",
       "27133        152           2              0  Eastern Mediterranean  \n",
       "27134          0           0              0                 Africa  \n",
       "27135         10           4             36  Eastern Mediterranean  \n",
       "27136         71           1            465                 Africa  \n",
       "27137        192           2             24                 Africa  "
      ],
      "text/html": "<div>\n<style scoped>\n    .dataframe tbody tr th:only-of-type {\n        vertical-align: middle;\n    }\n\n    .dataframe tbody tr th {\n        vertical-align: top;\n    }\n\n    .dataframe thead th {\n        text-align: right;\n    }\n</style>\n<table border=\"1\" class=\"dataframe\">\n  <thead>\n    <tr style=\"text-align: right;\">\n      <th></th>\n      <th>Date</th>\n      <th>Country/Region</th>\n      <th>Confirmed</th>\n      <th>Deaths</th>\n      <th>Recovered</th>\n      <th>Active</th>\n      <th>New cases</th>\n      <th>New deaths</th>\n      <th>New recovered</th>\n      <th>WHO Region</th>\n    </tr>\n  </thead>\n  <tbody>\n    <tr>\n      <th>27133</th>\n      <td>2020-07-27</td>\n      <td>West Bank and Gaza</td>\n      <td>10621</td>\n      <td>78</td>\n      <td>3752</td>\n      <td>6791</td>\n      <td>152</td>\n      <td>2</td>\n      <td>0</td>\n      <td>Eastern Mediterranean</td>\n    </tr>\n    <tr>\n      <th>27134</th>\n      <td>2020-07-27</td>\n      <td>Western Sahara</td>\n      <td>10</td>\n      <td>1</td>\n      <td>8</td>\n      <td>1</td>\n      <td>0</td>\n      <td>0</td>\n      <td>0</td>\n      <td>Africa</td>\n    </tr>\n    <tr>\n      <th>27135</th>\n      <td>2020-07-27</td>\n      <td>Yemen</td>\n      <td>1691</td>\n      <td>483</td>\n      <td>833</td>\n      <td>375</td>\n      <td>10</td>\n      <td>4</td>\n      <td>36</td>\n      <td>Eastern Mediterranean</td>\n    </tr>\n    <tr>\n      <th>27136</th>\n      <td>2020-07-27</td>\n      <td>Zambia</td>\n      <td>4552</td>\n      <td>140</td>\n      <td>2815</td>\n      <td>1597</td>\n      <td>71</td>\n      <td>1</td>\n      <td>465</td>\n      <td>Africa</td>\n    </tr>\n    <tr>\n      <th>27137</th>\n      <td>2020-07-27</td>\n      <td>Zimbabwe</td>\n      <td>2704</td>\n      <td>36</td>\n      <td>542</td>\n      <td>2126</td>\n      <td>192</td>\n      <td>2</td>\n      <td>24</td>\n      <td>Africa</td>\n    </tr>\n  </tbody>\n</table>\n</div>"
     },
     "metadata": {},
     "execution_count": 4
    }
   ],
   "source": [
    "a = len(df) #mencari panjang data\n",
    "df[(a-5):]#mengeprint panjang data- 5 hingga data terakhir"
   ]
  },
  {
   "cell_type": "code",
   "execution_count": 14,
   "metadata": {},
   "outputs": [
    {
     "output_type": "execute_result",
     "data": {
      "text/plain": [
       "           Date Country/Region  Confirmed  Deaths  Recovered  Active  \\\n",
       "199  2020-02-03          Italy          2       0          0       2   \n",
       "200  2020-02-03          Japan         20       0          1      19   \n",
       "201  2020-02-03       Malaysia          8       0          0       8   \n",
       "202  2020-02-03          Nepal          1       0          0       1   \n",
       "\n",
       "     New cases  New deaths  New recovered       WHO Region  \n",
       "199          0           0              0           Europe  \n",
       "200          0           0              0  Western Pacific  \n",
       "201          0           0              0  Western Pacific  \n",
       "202          0           0              0  South-East Asia  "
      ],
      "text/html": "<div>\n<style scoped>\n    .dataframe tbody tr th:only-of-type {\n        vertical-align: middle;\n    }\n\n    .dataframe tbody tr th {\n        vertical-align: top;\n    }\n\n    .dataframe thead th {\n        text-align: right;\n    }\n</style>\n<table border=\"1\" class=\"dataframe\">\n  <thead>\n    <tr style=\"text-align: right;\">\n      <th></th>\n      <th>Date</th>\n      <th>Country/Region</th>\n      <th>Confirmed</th>\n      <th>Deaths</th>\n      <th>Recovered</th>\n      <th>Active</th>\n      <th>New cases</th>\n      <th>New deaths</th>\n      <th>New recovered</th>\n      <th>WHO Region</th>\n    </tr>\n  </thead>\n  <tbody>\n    <tr>\n      <th>199</th>\n      <td>2020-02-03</td>\n      <td>Italy</td>\n      <td>2</td>\n      <td>0</td>\n      <td>0</td>\n      <td>2</td>\n      <td>0</td>\n      <td>0</td>\n      <td>0</td>\n      <td>Europe</td>\n    </tr>\n    <tr>\n      <th>200</th>\n      <td>2020-02-03</td>\n      <td>Japan</td>\n      <td>20</td>\n      <td>0</td>\n      <td>1</td>\n      <td>19</td>\n      <td>0</td>\n      <td>0</td>\n      <td>0</td>\n      <td>Western Pacific</td>\n    </tr>\n    <tr>\n      <th>201</th>\n      <td>2020-02-03</td>\n      <td>Malaysia</td>\n      <td>8</td>\n      <td>0</td>\n      <td>0</td>\n      <td>8</td>\n      <td>0</td>\n      <td>0</td>\n      <td>0</td>\n      <td>Western Pacific</td>\n    </tr>\n    <tr>\n      <th>202</th>\n      <td>2020-02-03</td>\n      <td>Nepal</td>\n      <td>1</td>\n      <td>0</td>\n      <td>0</td>\n      <td>1</td>\n      <td>0</td>\n      <td>0</td>\n      <td>0</td>\n      <td>South-East Asia</td>\n    </tr>\n  </tbody>\n</table>\n</div>"
     },
     "metadata": {},
     "execution_count": 14
    }
   ],
   "source": [
    "df[200:204] #menampilkan data ke 200-204"
   ]
  },
  {
   "cell_type": "code",
   "execution_count": 16,
   "metadata": {},
   "outputs": [
    {
     "output_type": "execute_result",
     "data": {
      "text/plain": [
       "Europe                   8445\n",
       "Africa                   6269\n",
       "Americas                 4941\n",
       "Eastern Mediterranean    3243\n",
       "Western Pacific          2677\n",
       "South-East Asia          1563\n",
       "Name: WHO Region, dtype: int64"
      ]
     },
     "metadata": {},
     "execution_count": 16
    }
   ],
   "source": [
    "df[\"WHO Region\"].value_counts() #menggunakan value counts untuk mendapatkan banyaknya data untuk masing-masing WHO Regions"
   ]
  },
  {
   "cell_type": "code",
   "execution_count": 17,
   "metadata": {},
   "outputs": [
    {
     "output_type": "execute_result",
     "data": {
      "text/plain": [
       "0.7590739072277012"
      ]
     },
     "metadata": {},
     "execution_count": 17
    }
   ],
   "source": [
    "df[\"Deaths\"].corr(df[\"Recovered\"]) #menggunakan corr untuk mendapatkan nilai korelasi"
   ]
  },
  {
   "cell_type": "code",
   "execution_count": null,
   "metadata": {},
   "outputs": [],
   "source": [
    "#Keduanya berkorelasi lurus karena nilai korelasi mendekat 1"
   ]
  }
 ]
}