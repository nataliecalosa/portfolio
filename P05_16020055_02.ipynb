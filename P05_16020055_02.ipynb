{
 "metadata": {
  "language_info": {
   "codemirror_mode": {
    "name": "ipython",
    "version": 3
   },
   "file_extension": ".py",
   "mimetype": "text/x-python",
   "name": "python",
   "nbconvert_exporter": "python",
   "pygments_lexer": "ipython3",
   "version": "3.8.5-final"
  },
  "orig_nbformat": 2,
  "kernelspec": {
   "name": "python3",
   "display_name": "Python 3.8.5 32-bit",
   "metadata": {
    "interpreter": {
     "hash": "3e8598611744586220d089d594988233fde3d5e2702a3e53410911362c5ef92d"
    }
   }
  }
 },
 "nbformat": 4,
 "nbformat_minor": 2,
 "cells": [
  {
   "cell_type": "code",
   "execution_count": null,
   "metadata": {},
   "outputs": [],
   "source": [
    "#NIM/Nama  : 16020055/Natalie Calosa\n",
    "#Tanggal   : 15 Desember 2020\n",
    "#Deskripsi : Menampilkan informasi data sesuai perintah."
   ]
  },
  {
   "cell_type": "code",
   "execution_count": 2,
   "metadata": {},
   "outputs": [],
   "source": [
    "import pandas as pd\n",
    "df= pd.read_csv (\"covid.csv\")"
   ]
  },
  {
   "cell_type": "code",
   "execution_count": null,
   "metadata": {},
   "outputs": [],
   "source": [
    "#Kamus\n",
    "#df = dataframe\n",
    "#i=integer\n",
    "#a= dataframe yang berisi data dengan Country/Region Indonesia"
   ]
  },
  {
   "cell_type": "code",
   "execution_count": 2,
   "metadata": {},
   "outputs": [
    {
     "output_type": "execute_result",
     "data": {
      "text/plain": [
       "             Date Country/Region  Confirmed  Deaths  Recovered  Active  \\\n",
       "16933  2020-06-03      Indonesia      28233    1698       8406   18129   \n",
       "\n",
       "       New cases  New deaths  New recovered       WHO Region  \n",
       "16933        684          35            471  South-East Asia  "
      ],
      "text/html": "<div>\n<style scoped>\n    .dataframe tbody tr th:only-of-type {\n        vertical-align: middle;\n    }\n\n    .dataframe tbody tr th {\n        vertical-align: top;\n    }\n\n    .dataframe thead th {\n        text-align: right;\n    }\n</style>\n<table border=\"1\" class=\"dataframe\">\n  <thead>\n    <tr style=\"text-align: right;\">\n      <th></th>\n      <th>Date</th>\n      <th>Country/Region</th>\n      <th>Confirmed</th>\n      <th>Deaths</th>\n      <th>Recovered</th>\n      <th>Active</th>\n      <th>New cases</th>\n      <th>New deaths</th>\n      <th>New recovered</th>\n      <th>WHO Region</th>\n    </tr>\n  </thead>\n  <tbody>\n    <tr>\n      <th>16933</th>\n      <td>2020-06-03</td>\n      <td>Indonesia</td>\n      <td>28233</td>\n      <td>1698</td>\n      <td>8406</td>\n      <td>18129</td>\n      <td>684</td>\n      <td>35</td>\n      <td>471</td>\n      <td>South-East Asia</td>\n    </tr>\n  </tbody>\n</table>\n</div>"
     },
     "metadata": {},
     "execution_count": 2
    }
   ],
   "source": [
    "df.loc[(df[\"Country/Region\"] == \"Indonesia\") & (df[\"Date\"] == \"2020-06-03\")] #menggunakan perintah df.loc untuk mencari data negara Indonesia pada tanggal 3 Juni 2020"
   ]
  },
  {
   "cell_type": "code",
   "execution_count": 5,
   "metadata": {},
   "outputs": [
    {
     "output_type": "execute_result",
     "data": {
      "text/plain": [
       "             Date Country/Region  Confirmed  Deaths  Recovered  Active  \\\n",
       "8      2020-01-23      Singapore          1       0          0       1   \n",
       "17     2020-01-24      Singapore          3       0          0       3   \n",
       "28     2020-01-25      Singapore          3       0          0       3   \n",
       "41     2020-01-26      Singapore          4       0          0       4   \n",
       "56     2020-01-27      Singapore          5       0          0       5   \n",
       "...           ...            ...        ...     ...        ...     ...   \n",
       "26727  2020-07-25      Singapore      49888      27      45352    4509   \n",
       "26844  2020-07-26      Indonesia      98778    4781      56655   37342   \n",
       "26914  2020-07-26      Singapore      50369      27      45521    4821   \n",
       "27031  2020-07-27      Indonesia     100303    4838      58173   37292   \n",
       "27101  2020-07-27      Singapore      50838      27      45692    5119   \n",
       "\n",
       "       New cases  New deaths  New recovered       WHO Region  \n",
       "8              1           0              0  Western Pacific  \n",
       "17             2           0              0  Western Pacific  \n",
       "28             0           0              0  Western Pacific  \n",
       "41             1           0              0  Western Pacific  \n",
       "56             1           0              0  Western Pacific  \n",
       "...          ...         ...            ...              ...  \n",
       "26727        513           0            180  Western Pacific  \n",
       "26844       1492          67           1301  South-East Asia  \n",
       "26914        481           0            169  Western Pacific  \n",
       "27031       1525          57           1518  South-East Asia  \n",
       "27101        469           0            171  Western Pacific  \n",
       "\n",
       "[335 rows x 10 columns]"
      ],
      "text/html": "<div>\n<style scoped>\n    .dataframe tbody tr th:only-of-type {\n        vertical-align: middle;\n    }\n\n    .dataframe tbody tr th {\n        vertical-align: top;\n    }\n\n    .dataframe thead th {\n        text-align: right;\n    }\n</style>\n<table border=\"1\" class=\"dataframe\">\n  <thead>\n    <tr style=\"text-align: right;\">\n      <th></th>\n      <th>Date</th>\n      <th>Country/Region</th>\n      <th>Confirmed</th>\n      <th>Deaths</th>\n      <th>Recovered</th>\n      <th>Active</th>\n      <th>New cases</th>\n      <th>New deaths</th>\n      <th>New recovered</th>\n      <th>WHO Region</th>\n    </tr>\n  </thead>\n  <tbody>\n    <tr>\n      <th>8</th>\n      <td>2020-01-23</td>\n      <td>Singapore</td>\n      <td>1</td>\n      <td>0</td>\n      <td>0</td>\n      <td>1</td>\n      <td>1</td>\n      <td>0</td>\n      <td>0</td>\n      <td>Western Pacific</td>\n    </tr>\n    <tr>\n      <th>17</th>\n      <td>2020-01-24</td>\n      <td>Singapore</td>\n      <td>3</td>\n      <td>0</td>\n      <td>0</td>\n      <td>3</td>\n      <td>2</td>\n      <td>0</td>\n      <td>0</td>\n      <td>Western Pacific</td>\n    </tr>\n    <tr>\n      <th>28</th>\n      <td>2020-01-25</td>\n      <td>Singapore</td>\n      <td>3</td>\n      <td>0</td>\n      <td>0</td>\n      <td>3</td>\n      <td>0</td>\n      <td>0</td>\n      <td>0</td>\n      <td>Western Pacific</td>\n    </tr>\n    <tr>\n      <th>41</th>\n      <td>2020-01-26</td>\n      <td>Singapore</td>\n      <td>4</td>\n      <td>0</td>\n      <td>0</td>\n      <td>4</td>\n      <td>1</td>\n      <td>0</td>\n      <td>0</td>\n      <td>Western Pacific</td>\n    </tr>\n    <tr>\n      <th>56</th>\n      <td>2020-01-27</td>\n      <td>Singapore</td>\n      <td>5</td>\n      <td>0</td>\n      <td>0</td>\n      <td>5</td>\n      <td>1</td>\n      <td>0</td>\n      <td>0</td>\n      <td>Western Pacific</td>\n    </tr>\n    <tr>\n      <th>...</th>\n      <td>...</td>\n      <td>...</td>\n      <td>...</td>\n      <td>...</td>\n      <td>...</td>\n      <td>...</td>\n      <td>...</td>\n      <td>...</td>\n      <td>...</td>\n      <td>...</td>\n    </tr>\n    <tr>\n      <th>26727</th>\n      <td>2020-07-25</td>\n      <td>Singapore</td>\n      <td>49888</td>\n      <td>27</td>\n      <td>45352</td>\n      <td>4509</td>\n      <td>513</td>\n      <td>0</td>\n      <td>180</td>\n      <td>Western Pacific</td>\n    </tr>\n    <tr>\n      <th>26844</th>\n      <td>2020-07-26</td>\n      <td>Indonesia</td>\n      <td>98778</td>\n      <td>4781</td>\n      <td>56655</td>\n      <td>37342</td>\n      <td>1492</td>\n      <td>67</td>\n      <td>1301</td>\n      <td>South-East Asia</td>\n    </tr>\n    <tr>\n      <th>26914</th>\n      <td>2020-07-26</td>\n      <td>Singapore</td>\n      <td>50369</td>\n      <td>27</td>\n      <td>45521</td>\n      <td>4821</td>\n      <td>481</td>\n      <td>0</td>\n      <td>169</td>\n      <td>Western Pacific</td>\n    </tr>\n    <tr>\n      <th>27031</th>\n      <td>2020-07-27</td>\n      <td>Indonesia</td>\n      <td>100303</td>\n      <td>4838</td>\n      <td>58173</td>\n      <td>37292</td>\n      <td>1525</td>\n      <td>57</td>\n      <td>1518</td>\n      <td>South-East Asia</td>\n    </tr>\n    <tr>\n      <th>27101</th>\n      <td>2020-07-27</td>\n      <td>Singapore</td>\n      <td>50838</td>\n      <td>27</td>\n      <td>45692</td>\n      <td>5119</td>\n      <td>469</td>\n      <td>0</td>\n      <td>171</td>\n      <td>Western Pacific</td>\n    </tr>\n  </tbody>\n</table>\n<p>335 rows × 10 columns</p>\n</div>"
     },
     "metadata": {},
     "execution_count": 5
    }
   ],
   "source": [
    "df.loc[(df[\"Country/Region\"] == \"Indonesia\") | (df[\"Country/Region\"] == \"Singapore\") ] #menggunakan df.loc untuk menemukan semua data dengan country indonesia atau singapore"
   ]
  },
  {
   "cell_type": "code",
   "execution_count": 13,
   "metadata": {},
   "outputs": [
    {
     "output_type": "execute_result",
     "data": {
      "text/plain": [
       "163"
      ]
     },
     "metadata": {},
     "execution_count": 13
    }
   ],
   "source": [
    "len(df.loc[(df[\"Date\"] == \"2020-07-27\") & (df[\"Confirmed\"] < 100000)] ) #menggunakan fungsi len untuk menghitung berapa banyak negara dengan kasus terkonfirmasi dibawah 100000 pada saat 27 Juli 2020"
   ]
  },
  {
   "cell_type": "code",
   "execution_count": 5,
   "metadata": {},
   "outputs": [
    {
     "output_type": "execute_result",
     "data": {
      "text/plain": [
       "1146    2020-03-02\n",
       "Name: Date, dtype: object"
      ]
     },
     "metadata": {},
     "execution_count": 5
    }
   ],
   "source": [
    "a = df.loc[(df[\"Country/Region\"] == \"Indonesia\")]#dataframe Indonesia\n",
    "i = a[\"Confirmed\"].idxmin() #i adalah data dengan kasus terkonfirmasi terkecil di Indonesia\n",
    "#df[i:i+1] (apabila ingin menampilkan data pada saat pertama kali kasus terkonfirmasi di Indonesia)\n",
    "df[\"Date\"][i:i+1] #untuk print datenya saja"
   ]
  },
  {
   "cell_type": "code",
   "execution_count": null,
   "metadata": {},
   "outputs": [],
   "source": [
    "#Kasus pertama di Indonesia adalah tanggal 2 Maret 2020"
   ]
  },
  {
   "cell_type": "code",
   "execution_count": 6,
   "metadata": {},
   "outputs": [
    {
     "output_type": "execute_result",
     "data": {
      "text/plain": [
       "26987    2020-07-27\n",
       "Name: Date, dtype: object"
      ]
     },
     "metadata": {},
     "execution_count": 6
    }
   ],
   "source": [
    "a = df.loc[(df[\"Country/Region\"] == \"China\")]\n",
    "i = a[\"Confirmed\"].idxmax()#i adalah data dengan kasus terkonfirmasi tebesar di Indonesia\n",
    "#df[i:i+1] (apabila ingin menampilkan data pada saat kasus terkonfirmasi paling banyak di China)\n",
    "df[\"Date\"][i:i+1] #untuk menampilkan datenya saja"
   ]
  },
  {
   "cell_type": "code",
   "execution_count": null,
   "metadata": {},
   "outputs": [],
   "source": [
    "#Kasus aktif terbanyak di China terjadi pada tanggal 27 Juli 2020"
   ]
  }
 ]
}